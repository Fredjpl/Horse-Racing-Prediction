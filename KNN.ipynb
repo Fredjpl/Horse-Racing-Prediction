{
 "cells": [
  {
   "cell_type": "code",
   "execution_count": 2,
   "id": "a02676a7",
   "metadata": {},
   "outputs": [
    {
     "name": "stdout",
     "output_type": "stream",
     "text": [
      "Class2\n"
     ]
    }
   ],
   "source": [
    "from collections import Counter\n",
    "\n",
    "# Step 1: Distance Function\n",
    "def euclidean_distance(point1, point2):\n",
    "    return sum((p1 - p2) ** 2 for p1, p2 in zip(point1, point2)) ** 0.5\n",
    "\n",
    "# Step 2: k-NN algorithm\n",
    "def knn(data, query, k, distance_fn, choice_fn):\n",
    "    neighbor_distances_and_indices = []\n",
    "\n",
    "    # Step 3: Find the distance of the query point to all other points\n",
    "    for index, example in enumerate(data):\n",
    "        # example[:-1] is used to consider only features, not the label\n",
    "        distance = distance_fn(example[0], query)  # Ensure example[0] is a list of features\n",
    "        neighbor_distances_and_indices.append((distance, index))\n",
    "\n",
    "    # Step 4: Sort by distance and select k-nearest neighbors\n",
    "    sorted_neighbors = sorted(neighbor_distances_and_indices)\n",
    "\n",
    "    # Select k nearest neighbors\n",
    "    k_nearest_distances_and_indices = sorted_neighbors[:k]\n",
    "\n",
    "    # Step 5: Get the labels of the selected k neighbors\n",
    "    k_nearest_labels = [data[i][-1] for _, i in k_nearest_distances_and_indices]\n",
    "\n",
    "    # Step 6: Choice function to make a decision based on neighbors\n",
    "    return choice_fn(k_nearest_labels)\n",
    "\n",
    "# Majority voting\n",
    "def majority_vote(labels):\n",
    "    vote_count = Counter(labels)\n",
    "    winner, _ = vote_count.most_common(1)[0]\n",
    "    return winner\n",
    "\n",
    "# Example usage with corrected structure for training data\n",
    "# Now, each example is a tuple with a list of features and the label as the second element\n",
    "training_data = [\n",
    "    ([1, 2], 'Class1'),\n",
    "    ([3, 1], 'Class2'),\n",
    "    ([2, 3], 'Class1'),\n",
    "    ([5, 3], 'Class2'),\n",
    "    ([3, 5], 'Class1'),\n",
    "    ([4, 4], 'Class2'),\n",
    "]\n",
    "\n",
    "# Predict the class of a new data point with features [3,3]\n",
    "query = [3, 3]\n",
    "k = 3\n",
    "\n",
    "# Call the kNN function\n",
    "predicted_class = knn(training_data, query, k, euclidean_distance, majority_vote)\n",
    "print(predicted_class)\n"
   ]
  },
  {
   "cell_type": "code",
   "execution_count": null,
   "id": "45f7f10e",
   "metadata": {},
   "outputs": [],
   "source": []
  }
 ],
 "metadata": {
  "kernelspec": {
   "display_name": "Python 3 (ipykernel)",
   "language": "python",
   "name": "python3"
  },
  "language_info": {
   "codemirror_mode": {
    "name": "ipython",
    "version": 3
   },
   "file_extension": ".py",
   "mimetype": "text/x-python",
   "name": "python",
   "nbconvert_exporter": "python",
   "pygments_lexer": "ipython3",
   "version": "3.9.7"
  }
 },
 "nbformat": 4,
 "nbformat_minor": 5
}
